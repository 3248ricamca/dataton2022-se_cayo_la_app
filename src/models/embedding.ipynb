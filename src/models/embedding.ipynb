{
 "cells": [
  {
   "cell_type": "code",
   "execution_count": 3,
   "metadata": {},
   "outputs": [],
   "source": [
    "import sys\n",
    "import os\n",
    "import pandas as pd\n",
    "import numpy as np\n",
    "\n",
    "import multiprocessing\n",
    "cores = multiprocessing.cpu_count() # Count the number of cores in a computer\n",
    "\n",
    "from nltk.tokenize import sent_tokenize, word_tokenize \n",
    "from nltk import download\n",
    "import warnings\n",
    "import nltk\n",
    "\n",
    "warnings.filterwarnings(action = 'ignore')\n",
    "\n",
    "import gensim \n",
    "from gensim.models import Word2Vec\n",
    "from curses.ascii import isalpha\n",
    "from gensim.models import KeyedVectors\n",
    "\n",
    "\n",
    "from nltk.corpus import stopwords\n",
    "spanish_stop_words = set(stopwords.words('spanish'))\n",
    "\n",
    "\n",
    "import seaborn as sns\n",
    "import matplotlib.pyplot as plt\n",
    "\n",
    "# Import adjustText, initialize list of texts\n",
    "from adjustText import adjust_text\n",
    "\n",
    "from sklearn.manifold import TSNE\n",
    "\n",
    "# Para calcular similitud de vectores de misma longitud\n",
    "from gensim.matutils import unitvec\n",
    "\n",
    "# Stemmer de palabras\n",
    "from nltk.stem.snowball import SnowballStemmer\n",
    "\n",
    "snowballstemmer = SnowballStemmer('spanish')\n",
    "\n",
    "# Categorias relevantes\n",
    "variables = [\"macroeconomia\",\"sostenibilidad\",\"regulaciones\",\"reputacion\",\"alianzas\",\"innovacion\"]"
   ]
  },
  {
   "cell_type": "code",
   "execution_count": 5,
   "metadata": {},
   "outputs": [],
   "source": [
    "# cambiar url para leer los datos de otro subfolder con path relativo\n",
    "# os.chdir('../')\n",
    "\n",
    "# Descarga de archivos nltk necesarios para modelar, descargue todo\n",
    "# download()"
   ]
  },
  {
   "cell_type": "code",
   "execution_count": 6,
   "metadata": {},
   "outputs": [],
   "source": [
    "noticias = pd.read_csv('../datos/noticias.csv')\n",
    "clientes_noticias = pd.read_csv('../datos/clientes_noticias.csv')"
   ]
  },
  {
   "cell_type": "markdown",
   "metadata": {},
   "source": [
    "# Funciones"
   ]
  },
  {
   "cell_type": "code",
   "execution_count": 7,
   "metadata": {},
   "outputs": [],
   "source": [
    "def clean_text_news(df):\n",
    "    df['len_titular'] = df['news_title'].apply(lambda x: len(x))\n",
    "    df['len_content'] = df['news_text_content'].apply(lambda x: len(x))\n",
    "    return df\n",
    "    \n",
    "def create_tokenization(x):\n",
    "    data = []\n",
    "    for j in word_tokenize(x,language='spanish'):\n",
    "        term = j.lower()\n",
    "\n",
    "        if term.isalpha() and not term in spanish_stop_words:\n",
    "            #term = snowballstemmer.stem(term)\n",
    "            data.append(term)\n",
    "        \n",
    "    return data\n",
    "\n",
    "def document_vector(word2vec_model, doc, vocab):\n",
    "    # remove out-of-vocabulary words\n",
    "    doc = [word for word in doc if word in vocab]\n",
    "    return np.mean(word2vec_model.wv[doc], axis=0)\n",
    "\n",
    "# Function that will help us drop documents that have no word vectors in word2vec\n",
    "def has_vector_representation(vocab, doc):\n",
    "    \"\"\"check if at least one word of the document is in the\n",
    "    word2vec dictionary\"\"\"\n",
    "    return not all(word not in vocab for word in doc)\n",
    "\n",
    "# Filter out documents\n",
    "def filter_docs(corpus, texts, condition_on_doc,vocab):\n",
    "    \"\"\"\n",
    "    Filter corpus and texts given the function condition_on_doc which takes a doc. The document doc is kept if condition_on_doc(doc) is true.\n",
    "    \"\"\"\n",
    "    number_of_docs = len(corpus)\n",
    "\n",
    "    if texts is not None:\n",
    "        texts = [text for (text, doc) in zip(texts, corpus)\n",
    "                 if has_vector_representation(vocab,doc)]\n",
    "\n",
    "    corpus = [doc for doc in corpus if has_vector_representation(vocab,doc)]\n",
    "\n",
    "    print(\"{} docs removed\".format(number_of_docs - len(corpus)))\n",
    "\n",
    "    return (corpus, texts)\n",
    "\n",
    "from itertools import islice\n",
    "\n",
    "def take(n, iterable):\n",
    "    \"Return first n items of the iterable as a list\"\n",
    "    return list(islice(iterable, n))\n",
    "\n",
    "def similitud(v1,v2):\n",
    "    \"\"\"\n",
    "        Esta funcion calcula la similitud de dos vectores de misma longitud\n",
    "\n",
    "        Inputs:\n",
    "            v1: vector 1\n",
    "            v2: vector 2\n",
    "        \n",
    "        Output: float\n",
    "\n",
    "            Similitud de vectores\n",
    "\n",
    "    \"\"\"\n",
    "    return np.dot(unitvec(v1), unitvec(v2))\n",
    "\n",
    "def df_categoria_noticia(df_noticas,lista_temas,modelo,vector_promedio_noticias):\n",
    "\n",
    "    diccionario_resultados = {}\n",
    "    for variable in lista_temas:\n",
    "        vector_tema = modelo.wv[variable]\n",
    "        similitud_noticias = [similitud(a,vector_tema) for a in vector_promedio_noticias]\n",
    "        diccionario_resultados[variable] = similitud_noticias\n",
    "\n",
    "    resultados_temas = pd.DataFrame(diccionario_resultados)\n",
    "    resultados_temas['Categoria'] = resultados_temas.idxmax(axis=1)\n",
    "    resultados_temas['Similitud'] = resultados_temas.max(axis=1)\n",
    "\n",
    "    # df_salida = pd.concat([df_noticas,resultados_temas[['Categoria']]],axis=1)\n",
    "    df_salida = pd.concat([df_noticas,resultados_temas[['Categoria','Similitud']]],axis=1)\n",
    "\n",
    "    return df_salida\n",
    "\n",
    "def preprocessing_noticias(df):\n",
    "\n",
    "    print(df.shape)\n",
    "    df = df[df['news_text_content']!=' '].reset_index(drop=True).copy()\n",
    "    print(df.shape)\n",
    "    df = df.drop_duplicates()\n",
    "    print(df.shape)\n",
    "    data = df['news_text_content'].apply(create_tokenization)\n",
    "    # data_titulas = df['news_title'].apply(create_tokenization)\n",
    "    \n",
    "    return [df, data]\n",
    "\n",
    "def matrix_by_new(df,model, vocab, vector_size, output_name = None, run = False, save = False):\n",
    "\n",
    "    if run:\n",
    "        new_mean_vector = []\n",
    "        for doc in df: # append the vector for each document\n",
    "            try:\n",
    "                output = document_vector(model, doc, vocab=vocab)\n",
    "            except:\n",
    "                output = np.zeros(vector_size)\n",
    "            new_mean_vector.append(output)\n",
    "\n",
    "        mean_vector = np.array(new_mean_vector) # list to array\n",
    "        if save:\n",
    "            with open(output_name+'.npy', 'wb') as f:\n",
    "                np.save(f, new_mean_vector)\n",
    "\n",
    "    else:\n",
    "        mean_vector = np.load('array_mean_vector_model.npy')\n",
    "        \n",
    "    return mean_vector"
   ]
  },
  {
   "cell_type": "code",
   "execution_count": 8,
   "metadata": {},
   "outputs": [
    {
     "name": "stdout",
     "output_type": "stream",
     "text": [
      "(23377, 6)\n",
      "(23346, 6)\n",
      "(23346, 6)\n"
     ]
    }
   ],
   "source": [
    "data = preprocessing_noticias(noticias)"
   ]
  },
  {
   "cell_type": "code",
   "execution_count": 9,
   "metadata": {},
   "outputs": [],
   "source": [
    "# from time import time  # To time our operations\n",
    "\n",
    "run_model = False\n",
    "path_model = \"models/Model/word2vec.model\"\n",
    "# semilla = 2022\n",
    "vector_size = 100\n",
    "\n",
    "if run_model:\n",
    "\n",
    "    model = Word2Vec(data[1],min_count=1,\n",
    "                     window=5,\n",
    "                     vector_size=vector_size,\n",
    "                    #  sample=6e-5, \n",
    "                    #  alpha=0.03, \n",
    "                    #  min_alpha=0.0007, \n",
    "                    #  hs = 0,\n",
    "                    #  negative=20,\n",
    "                     workers=cores-1,\n",
    "                    #  seed = semilla,\n",
    "                     sg = 1)\n",
    "    \n",
    "    # model.save(path_model)\n",
    "\n",
    "else:\n",
    "    model = Word2Vec.load(path_model)\n",
    "\n",
    "vocab = list(model.wv.index_to_key)                                     "
   ]
  },
  {
   "cell_type": "code",
   "execution_count": 10,
   "metadata": {},
   "outputs": [
    {
     "data": {
      "text/plain": [
       "[('tecnologia', 0.8312691450119019),\n",
       " ('sncti', 0.8216502666473389),\n",
       " ('iccti', 0.8028162121772766),\n",
       " ('proinnovate', 0.7993803024291992),\n",
       " ('senescyt', 0.7975841760635376),\n",
       " ('micitt', 0.7975763082504272),\n",
       " ('jannixia', 0.7932529449462891),\n",
       " ('ciencia', 0.7913185954093933),\n",
       " ('emprendimiento', 0.7911211252212524),\n",
       " ('fusionando', 0.7889145016670227),\n",
       " ('ctel', 0.7845596075057983),\n",
       " ('tecnologica', 0.7810786962509155),\n",
       " ('greentech', 0.7798160910606384),\n",
       " ('macrozona', 0.7785157561302185),\n",
       " ('mincyt', 0.7744529843330383),\n",
       " ('macrotendencias', 0.7741804718971252),\n",
       " ('habilitadores', 0.7730867266654968),\n",
       " ('addotar', 0.7724708318710327),\n",
       " ('ctci', 0.77205491065979),\n",
       " ('emprendedurismo', 0.769287109375)]"
      ]
     },
     "execution_count": 10,
     "metadata": {},
     "output_type": "execute_result"
    }
   ],
   "source": [
    "sims = model.wv.most_similar('innovacion', topn=20)\n",
    "sims"
   ]
  },
  {
   "cell_type": "code",
   "execution_count": 11,
   "metadata": {},
   "outputs": [],
   "source": [
    "# configuracion\n",
    "run_matrix = False\n",
    "\n",
    "vector_mean = matrix_by_new(df=data[1], vocab=vocab, model=model, run=run_matrix, vector_size=vector_size)\n",
    "salida_categorias = df_categoria_noticia(df_noticas=data[0],lista_temas=variables,modelo=model,vector_promedio_noticias=vector_mean)"
   ]
  },
  {
   "cell_type": "code",
   "execution_count": 12,
   "metadata": {},
   "outputs": [
    {
     "data": {
      "text/plain": [
       "Categoria\n",
       "alianzas          0.587121\n",
       "innovacion        0.594741\n",
       "macroeconomia     0.587056\n",
       "regulaciones      0.576101\n",
       "reputacion        0.523784\n",
       "sostenibilidad    0.515789\n",
       "Name: Similitud, dtype: float64"
      ]
     },
     "execution_count": 12,
     "metadata": {},
     "output_type": "execute_result"
    }
   ],
   "source": [
    "salida_categorias.groupby('Categoria').mean()['Similitud']"
   ]
  },
  {
   "cell_type": "code",
   "execution_count": 13,
   "metadata": {},
   "outputs": [
    {
     "data": {
      "text/plain": [
       "sostenibilidad    100\n",
       "reputacion        100\n",
       "regulaciones      100\n",
       "macroeconomia     100\n",
       "innovacion        100\n",
       "alianzas          100\n",
       "Name: Categoria, dtype: int64"
      ]
     },
     "execution_count": 13,
     "metadata": {},
     "output_type": "execute_result"
    }
   ],
   "source": [
    "salida_categorias.sort_values(['Categoria','Similitud'],ascending = False, inplace=True)\n",
    "muestra = salida_categorias.groupby('Categoria').head(100)\n",
    "muestra['Categoria'].value_counts()\n",
    "# muestra.to_csv('muestra_categorias.csv')"
   ]
  },
  {
   "cell_type": "code",
   "execution_count": 14,
   "metadata": {},
   "outputs": [
    {
     "data": {
      "text/plain": [
       "Categoria\n",
       "alianzas          0.668441\n",
       "innovacion        0.700494\n",
       "macroeconomia     0.649634\n",
       "regulaciones      0.644326\n",
       "reputacion        0.559659\n",
       "sostenibilidad    0.630593\n",
       "Name: Similitud, dtype: float64"
      ]
     },
     "execution_count": 14,
     "metadata": {},
     "output_type": "execute_result"
    }
   ],
   "source": [
    "muestra.groupby('Categoria').mean()['Similitud']"
   ]
  },
  {
   "cell_type": "code",
   "execution_count": 15,
   "metadata": {},
   "outputs": [],
   "source": [
    "original_muestra = pd.read_csv('muestra_categorias_original.csv',index_col='Unnamed: 0')\n",
    "original_muestra.groupby('Categoria').mean()['Similitud']\n",
    "original_muestra['val_cat'] = original_muestra['news_url_absolute'].apply(lambda x: x.split('/')[3])"
   ]
  },
  {
   "cell_type": "code",
   "execution_count": 16,
   "metadata": {},
   "outputs": [
    {
     "data": {
      "text/html": [
       "<div>\n",
       "<style scoped>\n",
       "    .dataframe tbody tr th:only-of-type {\n",
       "        vertical-align: middle;\n",
       "    }\n",
       "\n",
       "    .dataframe tbody tr th {\n",
       "        vertical-align: top;\n",
       "    }\n",
       "\n",
       "    .dataframe thead th {\n",
       "        text-align: right;\n",
       "    }\n",
       "</style>\n",
       "<table border=\"1\" class=\"dataframe\">\n",
       "  <thead>\n",
       "    <tr style=\"text-align: right;\">\n",
       "      <th></th>\n",
       "      <th>news_id</th>\n",
       "      <th>news_url_absolute</th>\n",
       "      <th>news_init_date</th>\n",
       "      <th>news_final_date</th>\n",
       "      <th>news_title</th>\n",
       "      <th>news_text_content</th>\n",
       "      <th>Categoria</th>\n",
       "      <th>Similitud</th>\n",
       "      <th>val_cat</th>\n",
       "    </tr>\n",
       "  </thead>\n",
       "  <tbody>\n",
       "    <tr>\n",
       "      <th>17649</th>\n",
       "      <td>news77900</td>\n",
       "      <td>https://www.letrap.com.ar/nota/2022-8-5-10-32-...</td>\n",
       "      <td>2022-07-30</td>\n",
       "      <td>2022-08-14</td>\n",
       "      <td>Un ortodoxo con pasado en Lavagna, el vice ...</td>\n",
       "      <td>Con la designacion de Gabriel Rubinstein frent...</td>\n",
       "      <td>macroeconomia</td>\n",
       "      <td>0.688243</td>\n",
       "      <td>nota</td>\n",
       "    </tr>\n",
       "    <tr>\n",
       "      <th>9273</th>\n",
       "      <td>news45579</td>\n",
       "      <td>https://www.eldiariodelarepublica.com/nota/202...</td>\n",
       "      <td>2022-07-15</td>\n",
       "      <td>2022-07-30</td>\n",
       "      <td>Batakis se reunio con la titular del FMI, que ...</td>\n",
       "      <td>La ministra de Economia, Silvina Batakis, mant...</td>\n",
       "      <td>macroeconomia</td>\n",
       "      <td>0.685096</td>\n",
       "      <td>nota</td>\n",
       "    </tr>\n",
       "    <tr>\n",
       "      <th>9537</th>\n",
       "      <td>news46743</td>\n",
       "      <td>https://www.letrap.com.ar/nota/2022-7-16-17-47...</td>\n",
       "      <td>2022-07-15</td>\n",
       "      <td>2022-07-30</td>\n",
       "      <td>Entre Guzman y su sucesora, Pesce no duda: \"Es...</td>\n",
       "      <td>Las criticas que antes resonaban por los pasil...</td>\n",
       "      <td>macroeconomia</td>\n",
       "      <td>0.664930</td>\n",
       "      <td>nota</td>\n",
       "    </tr>\n",
       "  </tbody>\n",
       "</table>\n",
       "</div>"
      ],
      "text/plain": [
       "         news_id                                  news_url_absolute  \\\n",
       "17649  news77900  https://www.letrap.com.ar/nota/2022-8-5-10-32-...   \n",
       "9273   news45579  https://www.eldiariodelarepublica.com/nota/202...   \n",
       "9537   news46743  https://www.letrap.com.ar/nota/2022-7-16-17-47...   \n",
       "\n",
       "      news_init_date news_final_date  \\\n",
       "17649     2022-07-30      2022-08-14   \n",
       "9273      2022-07-15      2022-07-30   \n",
       "9537      2022-07-15      2022-07-30   \n",
       "\n",
       "                                              news_title  \\\n",
       "17649     Un ortodoxo con pasado en Lavagna, el vice ...   \n",
       "9273   Batakis se reunio con la titular del FMI, que ...   \n",
       "9537   Entre Guzman y su sucesora, Pesce no duda: \"Es...   \n",
       "\n",
       "                                       news_text_content      Categoria  \\\n",
       "17649  Con la designacion de Gabriel Rubinstein frent...  macroeconomia   \n",
       "9273   La ministra de Economia, Silvina Batakis, mant...  macroeconomia   \n",
       "9537   Las criticas que antes resonaban por los pasil...  macroeconomia   \n",
       "\n",
       "       Similitud val_cat  \n",
       "17649   0.688243    nota  \n",
       "9273    0.685096    nota  \n",
       "9537    0.664930    nota  "
      ]
     },
     "execution_count": 16,
     "metadata": {},
     "output_type": "execute_result"
    }
   ],
   "source": [
    "# nota\n",
    "# 2022\n",
    "\n",
    "val = original_muestra[original_muestra['Categoria']=='macroeconomia']\n",
    "val[val['val_cat']=='nota']"
   ]
  },
  {
   "cell_type": "markdown",
   "metadata": {},
   "source": [
    "# Classifier models"
   ]
  },
  {
   "cell_type": "code",
   "execution_count": 17,
   "metadata": {},
   "outputs": [],
   "source": [
    "from sklearn.naive_bayes import MultinomialNB\n",
    "from sklearn.pipeline import Pipeline\n",
    "from sklearn.feature_extraction.text import TfidfTransformer, CountVectorizer\n",
    "\n",
    "from sklearn.model_selection import train_test_split"
   ]
  },
  {
   "cell_type": "code",
   "execution_count": 18,
   "metadata": {},
   "outputs": [
    {
     "name": "stdout",
     "output_type": "stream",
     "text": [
      "(600,) (600,)\n"
     ]
    }
   ],
   "source": [
    "x = muestra['news_text_content']\n",
    "y = muestra['Categoria']\n",
    "\n",
    "print(x.shape,y.shape)\n",
    "\n",
    "X_train, X_test, y_train, y_test = train_test_split(x,y, test_size= 0.3, random_state=2022)"
   ]
  },
  {
   "cell_type": "code",
   "execution_count": 19,
   "metadata": {},
   "outputs": [
    {
     "name": "stdout",
     "output_type": "stream",
     "text": [
      "accuracy 0.8111111111111111\n",
      "                precision    recall  f1-score   support\n",
      "\n",
      " macroeconomia       1.00      0.58      0.73        31\n",
      "sostenibilidad       0.71      1.00      0.83        27\n",
      "  regulaciones       0.59      1.00      0.74        29\n",
      "    reputacion       1.00      0.46      0.63        37\n",
      "      alianzas       1.00      0.97      0.98        32\n",
      "    innovacion       0.89      1.00      0.94        24\n",
      "\n",
      "      accuracy                           0.81       180\n",
      "     macro avg       0.87      0.83      0.81       180\n",
      "  weighted avg       0.88      0.81      0.80       180\n",
      "\n"
     ]
    }
   ],
   "source": [
    "from time import time\n",
    "\n",
    "\n",
    "nb = Pipeline([('vect',CountVectorizer()),\n",
    "               ('tfidf', TfidfTransformer()),\n",
    "               ('clf',MultinomialNB())])\n",
    "\n",
    "nb.fit(X_train, y_train)            \n",
    "\n",
    "from sklearn.metrics import classification_report, accuracy_score\n",
    "\n",
    "y_pred = nb.predict(X_test)\n",
    "\n",
    "print('accuracy %s' % accuracy_score(y_pred,y_test))\n",
    "print(classification_report(y_test,y_pred,target_names=variables))"
   ]
  },
  {
   "cell_type": "code",
   "execution_count": 20,
   "metadata": {},
   "outputs": [],
   "source": [
    "salida_categorias['nb_categoria'] = nb.predict(salida_categorias['news_text_content'])"
   ]
  },
  {
   "cell_type": "code",
   "execution_count": 21,
   "metadata": {},
   "outputs": [
    {
     "name": "stdout",
     "output_type": "stream",
     "text": [
      "accuracy 0.9777777777777777\n",
      "                precision    recall  f1-score   support\n",
      "\n",
      " macroeconomia       1.00      0.90      0.95        31\n",
      "sostenibilidad       0.96      1.00      0.98        27\n",
      "  regulaciones       1.00      0.97      0.98        29\n",
      "    reputacion       1.00      1.00      1.00        37\n",
      "      alianzas       1.00      1.00      1.00        32\n",
      "    innovacion       0.89      1.00      0.94        24\n",
      "\n",
      "      accuracy                           0.98       180\n",
      "     macro avg       0.98      0.98      0.98       180\n",
      "  weighted avg       0.98      0.98      0.98       180\n",
      "\n"
     ]
    }
   ],
   "source": [
    "from sklearn.linear_model import SGDClassifier\n",
    "\n",
    "sgd = Pipeline([('vect',CountVectorizer()),\n",
    "               ('tfidf', TfidfTransformer()),\n",
    "               ('clf',SGDClassifier(loss = 'hinge', alpha = 1e-3, random_state=2022, max_iter=5, tol = None))])\n",
    "\n",
    "sgd.fit(X_train,y_train)            \n",
    "\n",
    "y_pred = sgd.predict(X_test)\n",
    "\n",
    "print('accuracy %s' % accuracy_score(y_pred,y_test))\n",
    "print(classification_report(y_test,y_pred,target_names=variables))"
   ]
  },
  {
   "cell_type": "code",
   "execution_count": 22,
   "metadata": {},
   "outputs": [],
   "source": [
    "salida_categorias['sgd_categoria'] = sgd.predict(salida_categorias['news_text_content'])"
   ]
  },
  {
   "cell_type": "code",
   "execution_count": 23,
   "metadata": {},
   "outputs": [
    {
     "name": "stdout",
     "output_type": "stream",
     "text": [
      "accuracy 0.9833333333333333\n",
      "                precision    recall  f1-score   support\n",
      "\n",
      " macroeconomia       0.97      0.97      0.97        31\n",
      "sostenibilidad       0.96      1.00      0.98        27\n",
      "  regulaciones       1.00      0.97      0.98        29\n",
      "    reputacion       1.00      1.00      1.00        37\n",
      "      alianzas       1.00      1.00      1.00        32\n",
      "    innovacion       0.96      0.96      0.96        24\n",
      "\n",
      "      accuracy                           0.98       180\n",
      "     macro avg       0.98      0.98      0.98       180\n",
      "  weighted avg       0.98      0.98      0.98       180\n",
      "\n"
     ]
    }
   ],
   "source": [
    "from sklearn.linear_model import LogisticRegression\n",
    "\n",
    "logreg = Pipeline([('vect',CountVectorizer()),\n",
    "                   ('tfidf', TfidfTransformer()),\n",
    "                   ('clf',LogisticRegression(n_jobs=1, C= 1e5))])\n",
    "\n",
    "logreg.fit(X_train,y_train)\n",
    "\n",
    "y_pred = logreg.predict(X_test)\n",
    "\n",
    "print('accuracy %s' % accuracy_score(y_pred,y_test))\n",
    "print(classification_report(y_test,y_pred,target_names=variables))"
   ]
  },
  {
   "cell_type": "code",
   "execution_count": 24,
   "metadata": {},
   "outputs": [],
   "source": [
    "salida_categorias['logreg_categoria'] = logreg.predict(salida_categorias['news_text_content'])"
   ]
  },
  {
   "cell_type": "code",
   "execution_count": 25,
   "metadata": {},
   "outputs": [],
   "source": [
    "# logistic regression with Word2vec embedding\n",
    "\n",
    "train, test = train_test_split(muestra, test_size=0.3, random_state = 2022)\n",
    "\n",
    "test_tokenized = data[1][test.index]\n",
    "train_tokenized = data[1][train.index]\n",
    "\n",
    "X_train_word_average = vector_mean[train.index]\n",
    "X_test_word_average = vector_mean[test.index]"
   ]
  },
  {
   "cell_type": "code",
   "execution_count": 26,
   "metadata": {},
   "outputs": [
    {
     "name": "stdout",
     "output_type": "stream",
     "text": [
      "accuracy 1.0\n",
      "                precision    recall  f1-score   support\n",
      "\n",
      " macroeconomia       1.00      1.00      1.00        31\n",
      "sostenibilidad       1.00      1.00      1.00        27\n",
      "  regulaciones       1.00      1.00      1.00        29\n",
      "    reputacion       1.00      1.00      1.00        37\n",
      "      alianzas       1.00      1.00      1.00        32\n",
      "    innovacion       1.00      1.00      1.00        24\n",
      "\n",
      "      accuracy                           1.00       180\n",
      "     macro avg       1.00      1.00      1.00       180\n",
      "  weighted avg       1.00      1.00      1.00       180\n",
      "\n"
     ]
    }
   ],
   "source": [
    "logreg_w2v = LogisticRegression(n_jobs=1, C= 1e5)\n",
    "logreg_w2v = logreg_w2v.fit(X_train_word_average,train.Categoria)\n",
    "\n",
    "y_pred = logreg_w2v.predict(X_test_word_average)\n",
    "\n",
    "print('accuracy %s' % accuracy_score(y_pred,test.Categoria))\n",
    "print(classification_report(test.Categoria,y_pred,target_names=variables))"
   ]
  },
  {
   "cell_type": "code",
   "execution_count": 30,
   "metadata": {},
   "outputs": [],
   "source": [
    "salida_categorias['logreg_w2v_categoria'] = logreg_w2v.predict(vector_mean[salida_categorias.index])"
   ]
  },
  {
   "cell_type": "code",
   "execution_count": 32,
   "metadata": {},
   "outputs": [
    {
     "data": {
      "text/plain": [
       "Index(['news_id', 'news_url_absolute', 'news_init_date', 'news_final_date',\n",
       "       'news_title', 'news_text_content', 'Categoria', 'Similitud',\n",
       "       'nb_categoria', 'sgd_categoria', 'logreg_categoria',\n",
       "       'logreg_w2v_categoria'],\n",
       "      dtype='object')"
      ]
     },
     "execution_count": 32,
     "metadata": {},
     "output_type": "execute_result"
    }
   ],
   "source": [
    "salida_categorias.columns"
   ]
  },
  {
   "cell_type": "code",
   "execution_count": 41,
   "metadata": {},
   "outputs": [
    {
     "data": {
      "text/html": [
       "<div>\n",
       "<style scoped>\n",
       "    .dataframe tbody tr th:only-of-type {\n",
       "        vertical-align: middle;\n",
       "    }\n",
       "\n",
       "    .dataframe tbody tr th {\n",
       "        vertical-align: top;\n",
       "    }\n",
       "\n",
       "    .dataframe thead th {\n",
       "        text-align: right;\n",
       "    }\n",
       "</style>\n",
       "<table border=\"1\" class=\"dataframe\">\n",
       "  <thead>\n",
       "    <tr style=\"text-align: right;\">\n",
       "      <th>nb_categoria</th>\n",
       "      <th>alianzas</th>\n",
       "      <th>innovacion</th>\n",
       "      <th>macroeconomia</th>\n",
       "      <th>regulaciones</th>\n",
       "      <th>reputacion</th>\n",
       "      <th>sostenibilidad</th>\n",
       "    </tr>\n",
       "    <tr>\n",
       "      <th>sgd_categoria</th>\n",
       "      <th></th>\n",
       "      <th></th>\n",
       "      <th></th>\n",
       "      <th></th>\n",
       "      <th></th>\n",
       "      <th></th>\n",
       "    </tr>\n",
       "  </thead>\n",
       "  <tbody>\n",
       "    <tr>\n",
       "      <th>alianzas</th>\n",
       "      <td>1218</td>\n",
       "      <td>1081</td>\n",
       "      <td>1585</td>\n",
       "      <td>0</td>\n",
       "      <td>1</td>\n",
       "      <td>183</td>\n",
       "    </tr>\n",
       "    <tr>\n",
       "      <th>innovacion</th>\n",
       "      <td>0</td>\n",
       "      <td>1383</td>\n",
       "      <td>165</td>\n",
       "      <td>0</td>\n",
       "      <td>0</td>\n",
       "      <td>1</td>\n",
       "    </tr>\n",
       "    <tr>\n",
       "      <th>macroeconomia</th>\n",
       "      <td>0</td>\n",
       "      <td>0</td>\n",
       "      <td>1282</td>\n",
       "      <td>0</td>\n",
       "      <td>0</td>\n",
       "      <td>0</td>\n",
       "    </tr>\n",
       "    <tr>\n",
       "      <th>regulaciones</th>\n",
       "      <td>2</td>\n",
       "      <td>56</td>\n",
       "      <td>1795</td>\n",
       "      <td>309</td>\n",
       "      <td>1</td>\n",
       "      <td>158</td>\n",
       "    </tr>\n",
       "    <tr>\n",
       "      <th>reputacion</th>\n",
       "      <td>14</td>\n",
       "      <td>324</td>\n",
       "      <td>4542</td>\n",
       "      <td>1</td>\n",
       "      <td>2396</td>\n",
       "      <td>101</td>\n",
       "    </tr>\n",
       "    <tr>\n",
       "      <th>sostenibilidad</th>\n",
       "      <td>5</td>\n",
       "      <td>871</td>\n",
       "      <td>2965</td>\n",
       "      <td>0</td>\n",
       "      <td>0</td>\n",
       "      <td>2907</td>\n",
       "    </tr>\n",
       "  </tbody>\n",
       "</table>\n",
       "</div>"
      ],
      "text/plain": [
       "nb_categoria    alianzas  innovacion  macroeconomia  regulaciones  reputacion  \\\n",
       "sgd_categoria                                                                   \n",
       "alianzas            1218        1081           1585             0           1   \n",
       "innovacion             0        1383            165             0           0   \n",
       "macroeconomia          0           0           1282             0           0   \n",
       "regulaciones           2          56           1795           309           1   \n",
       "reputacion            14         324           4542             1        2396   \n",
       "sostenibilidad         5         871           2965             0           0   \n",
       "\n",
       "nb_categoria    sostenibilidad  \n",
       "sgd_categoria                   \n",
       "alianzas                   183  \n",
       "innovacion                   1  \n",
       "macroeconomia                0  \n",
       "regulaciones               158  \n",
       "reputacion                 101  \n",
       "sostenibilidad            2907  "
      ]
     },
     "execution_count": 41,
     "metadata": {},
     "output_type": "execute_result"
    }
   ],
   "source": [
    "pd.crosstab(salida_categorias.sgd_categoria, salida_categorias.nb_categoria)"
   ]
  },
  {
   "cell_type": "code",
   "execution_count": 47,
   "metadata": {},
   "outputs": [
    {
     "data": {
      "text/plain": [
       "sgd_categoria\n",
       "alianzas          0.596597\n",
       "innovacion        0.635724\n",
       "macroeconomia     0.608505\n",
       "regulaciones      0.598217\n",
       "reputacion        0.553899\n",
       "sostenibilidad    0.589281\n",
       "Name: Similitud, dtype: float64"
      ]
     },
     "execution_count": 47,
     "metadata": {},
     "output_type": "execute_result"
    }
   ],
   "source": [
    "salida_categorias.groupby('sgd_categoria').mean()"
   ]
  },
  {
   "cell_type": "code",
   "execution_count": 75,
   "metadata": {},
   "outputs": [],
   "source": [
    "from sklearn.metrics.pairwise import cosine_similarity\n",
    "\n",
    "promedio_similitud_categorias = {}\n",
    "\n",
    "lista_variables = ['nb_categoria', 'sgd_categoria', 'logreg_categoria','logreg_w2v_categoria']\n",
    "\n",
    "for modelo in lista_variables:\n",
    "\n",
    "    promedio_similitud_categorias[modelo] = {}\n",
    "\n",
    "    for categoria in variables:\n",
    "        indices = salida_categorias[salida_categorias[modelo]==categoria].index\n",
    "        vectores_noticias = vector_mean[indices]\n",
    "        similitudes = cosine_similarity(vectores_noticias,vectores_noticias)\n",
    "        similitudes_prom = [sim.mean() for sim in similitudes]\n",
    "        promedio_similitud_categorias[modelo][categoria] = np.array(similitudes_prom).mean()\n",
    "    \n",
    "    promedio_similitud_categorias[modelo][\"prom_general\"] = np.array(list((promedio_similitud_categorias[modelo].values()))).mean()"
   ]
  },
  {
   "cell_type": "code",
   "execution_count": 87,
   "metadata": {},
   "outputs": [
    {
     "name": "stdout",
     "output_type": "stream",
     "text": [
      "Promedio general para nb_categoria 0.863\n",
      "Promedio general para sgd_categoria 0.886\n",
      "Promedio general para logreg_categoria 0.89\n",
      "Promedio general para logreg_w2v_categoria 0.885\n",
      "0.89 logreg_categoria\n"
     ]
    }
   ],
   "source": [
    "mayor = np.zeros(1)\n",
    "var_modelo = None\n",
    "\n",
    "for modelo in promedio_similitud_categorias.keys():\n",
    "\n",
    "    nuevo = round(promedio_similitud_categorias[modelo]['prom_general'],3)\n",
    "\n",
    "    print(f\"Promedio general para {modelo} %s\" % nuevo)\n",
    "    if nuevo>mayor:\n",
    "        mayor = nuevo\n",
    "        var_modelo = modelo\n",
    "\n",
    "print(str(mayor), var_modelo)"
   ]
  },
  {
   "cell_type": "code",
   "execution_count": 94,
   "metadata": {},
   "outputs": [
    {
     "data": {
      "text/plain": [
       "reputacion        7976\n",
       "regulaciones      4561\n",
       "alianzas          4227\n",
       "sostenibilidad    3589\n",
       "innovacion        1557\n",
       "macroeconomia     1436\n",
       "Name: logreg_categoria, dtype: int64"
      ]
     },
     "execution_count": 94,
     "metadata": {},
     "output_type": "execute_result"
    }
   ],
   "source": [
    "salida_categorias['logreg_categoria'].value_counts()"
   ]
  },
  {
   "cell_type": "code",
   "execution_count": 96,
   "metadata": {},
   "outputs": [
    {
     "data": {
      "text/plain": [
       "Index(['news_id', 'news_url_absolute', 'news_init_date', 'news_final_date',\n",
       "       'news_title', 'news_text_content', 'Categoria', 'Similitud',\n",
       "       'nb_categoria', 'sgd_categoria', 'logreg_categoria',\n",
       "       'logreg_w2v_categoria'],\n",
       "      dtype='object')"
      ]
     },
     "execution_count": 96,
     "metadata": {},
     "output_type": "execute_result"
    }
   ],
   "source": [
    "salida_categorias.columns"
   ]
  },
  {
   "cell_type": "code",
   "execution_count": 99,
   "metadata": {},
   "outputs": [],
   "source": [
    "# salida_categorias[salida_categorias['logreg_categoria'].isin(['macroeconomia','innovacion'])][['logreg_categoria','news_url_absolute']].to_csv(\"macro_reg.csv\")\n",
    "salida_categorias[salida_categorias['logreg_categoria'].isin(['regulaciones','reputacion'])][['logreg_categoria','news_url_absolute']].to_csv(\"sos_ali.csv\")"
   ]
  },
  {
   "cell_type": "code",
   "execution_count": 100,
   "metadata": {},
   "outputs": [],
   "source": [
    "cruce_participacion = salida_categorias[['news_id','news_url_absolute','logreg_categoria']]\n",
    "cruce_participacion.to_csv('../categoiras.csv',index=False)"
   ]
  },
  {
   "cell_type": "markdown",
   "metadata": {},
   "source": [
    "# TSNE "
   ]
  },
  {
   "cell_type": "code",
   "execution_count": 43,
   "metadata": {},
   "outputs": [],
   "source": [
    "indices = salida_categorias[salida_categorias['sgd_categoria']=='macroeconomia'].copy().reset_index()['index']\n",
    "indices = indices.tolist()"
   ]
  },
  {
   "cell_type": "code",
   "execution_count": 44,
   "metadata": {},
   "outputs": [],
   "source": [
    "# Initialize t-SNE\n",
    "tsne = TSNE(n_components = 2, init = 'random', random_state = 10, perplexity = 3)\n",
    "\n",
    "# Use only 400 rows to shorten processing time\n",
    "tsne_df = tsne.fit_transform(vector_mean[indices])"
   ]
  },
  {
   "cell_type": "code",
   "execution_count": 45,
   "metadata": {},
   "outputs": [
    {
     "data": {
      "image/png": "[encoded data removed]",
      "text/plain": [
       "<Figure size 842.4x595.44 with 1 Axes>"
      ]
     },
     "metadata": {
      "needs_background": "light"
     },
     "output_type": "display_data"
    }
   ],
   "source": [
    "sns.set()\n",
    "# Initialize figure\n",
    "fig, ax = plt.subplots(figsize = (11.7, 8.27))\n",
    "sns.scatterplot(x = tsne_df[:, 0], y = tsne_df[:, 1], alpha = 0.5)\n",
    "\n",
    "plt.show()"
   ]
  },
  {
   "cell_type": "code",
   "execution_count": null,
   "metadata": {},
   "outputs": [],
   "source": [
    "id = 1550\n",
    "# Filter the list of vectors to include only those that Word2Vec has a vector for\n",
    "vector_list = [model2.wv[word] for word in data[id] if word in vocab]\n",
    "\n",
    "# Create a list of the words corresponding to these vectors\n",
    "words_filtered = [word for word in data[id] if word in vocab]\n",
    "\n",
    "# Zip the words together with their vector representations\n",
    "word_vec_zip = zip(words_filtered, vector_list)\n",
    "\n",
    "# Cast to a dict so we can turn it into a DataFrame\n",
    "word_vec_dict = dict(word_vec_zip)\n",
    "df = pd.DataFrame.from_dict(word_vec_dict, orient='index')\n",
    "\n",
    "# Initialize t-SNE\n",
    "tsne = TSNE(n_components = 2, init = 'random', random_state = 10, perplexity = 3)\n",
    "\n",
    "# Use only 400 rows to shorten processing time\n",
    "tsne_df = tsne.fit_transform(df[:400])\n",
    "\n",
    "sns.set()\n",
    "# Initialize figure\n",
    "fig, ax = plt.subplots(figsize = (11.7, 8.27))\n",
    "sns.scatterplot(x = tsne_df[:, 0], y = tsne_df[:, 1], alpha = 0.5)\n",
    "\n",
    "texts = []\n",
    "words_to_plot = list(np.arange(0, df.shape[0], 10))\n",
    "\n",
    "# Append words to list\n",
    "for word in words_to_plot:\n",
    "    texts.append(plt.text(tsne_df[word, 0], tsne_df[word, 1], df.index[word], fontsize = 14))\n",
    "    \n",
    "# Plot text using adjust_text (because overlapping text is hard to read)\n",
    "adjust_text(texts, force_points = 0.4, force_text = 0.4, \n",
    "            expand_points = (2,1), expand_text = (1,2),\n",
    "            arrowprops = dict(arrowstyle = \"-\", color = 'black', lw = 0.5))\n",
    "\n",
    "plt.show()\n",
    "\n",
    "noti_categorias = salida_categorias[variables]\n",
    "\n",
    "corr = noti_categorias.corr()\n",
    "corr.style.background_gradient(cmap='coolwarm').set_precision(2)\n",
    "\n",
    "# Initialize t-SNE\n",
    "tsne = TSNE(n_components = 2, init = 'random', random_state = 10, perplexity = 100)\n",
    "\n",
    "# Again use only 400 rows to shorten processing time\n",
    "tsne_df = tsne.fit_transform(X)\n",
    "fig, ax = plt.subplots(figsize = (14, 10))\n",
    "sns.scatterplot(x = tsne_df[:, 0], y = tsne_df[:, 1], alpha = 0.5)\n",
    "\n",
    "texts = []\n",
    "titles_to_plot = list(np.arange(0, 800, 80)) # plots every 40th title in first 400 titles\n",
    "\n",
    "# Append words to list\n",
    "for title in titles_to_plot:\n",
    "    texts.append(plt.text(tsne_df[title, 0], tsne_df[title, 1], titles_list[title], fontsize = 14))\n",
    "    \n",
    "# Plot text using adjust_text\n",
    "adjust_text(texts, force_points = 0.4, force_text = 0.4, \n",
    "            expand_points = (2,1), expand_text = (1,2),\n",
    "            arrowprops = dict(arrowstyle = \"-\", color = 'black', lw = 0.5))\n",
    "\n",
    "plt.show()\n"
   ]
  }
 ],
 "metadata": {
  "kernelspec": {
   "display_name": "Python 3.10.6 ('nlp-bancolombia')",
   "language": "python",
   "name": "python3"
  },
  "language_info": {
   "codemirror_mode": {
    "name": "ipython",
    "version": 3
   },
   "file_extension": ".py",
   "mimetype": "text/x-python",
   "name": "python",
   "nbconvert_exporter": "python",
   "pygments_lexer": "ipython3",
   "version": "3.10.6"
  },
  "orig_nbformat": 4,
  "vscode": {
   "interpreter": {
    "hash": "4ba5a77d130743879ddd6b983fd8f274aeb4bbf8c40380f0bddb5c66d65acca4"
   }
  }
 },
 "nbformat": 4,
 "nbformat_minor": 2
}
